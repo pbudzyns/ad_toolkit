{
 "cells": [
  {
   "cell_type": "code",
   "execution_count": 1,
   "id": "8233d614",
   "metadata": {},
   "outputs": [],
   "source": [
    "! export CUDA_VISIBLE_DEVICES=\"\""
   ]
  },
  {
   "cell_type": "code",
   "execution_count": 2,
   "id": "022273cd",
   "metadata": {},
   "outputs": [],
   "source": [
    "import torch\n",
    "# torch.cuda.empty_cache()\n",
    "torch.cuda.is_available = lambda : False\n",
    "device = torch.device('cuda' if torch.cuda.is_available() else 'cpu')"
   ]
  },
  {
   "cell_type": "code",
   "execution_count": 3,
   "id": "2cf05d4a",
   "metadata": {},
   "outputs": [],
   "source": [
    "import pathlib\n",
    "\n",
    "import numpy as np\n",
    "import pandas as pd\n",
    "\n",
    "from sops_anomaly.datasets import MNIST, SupervisedDataset\n",
    "from sops_anomaly.detectors import AutoEncoder\n",
    "from sops_anomaly.evaluation import Result"
   ]
  },
  {
   "cell_type": "code",
   "execution_count": 9,
   "id": "213a895c",
   "metadata": {},
   "outputs": [],
   "source": [
    "RESULTS_ROOT = pathlib.Path(\"../results\")\n",
    "RESULT_FILE = \"autoencoder.csv\"\n",
    "N_TRAIN_SAMPLES = 1000\n",
    "N_TEST_SAMPLES = 100\n",
    "\n",
    "if not RESULTS_ROOT.exists():\n",
    "    RESULTS_ROOT.mkdir()"
   ]
  },
  {
   "cell_type": "code",
   "execution_count": 5,
   "id": "ed3c2ce3",
   "metadata": {},
   "outputs": [],
   "source": [
    "def best_result(predictions, targets, max_error):\n",
    "    best_f1, bets_threshold = 0, 0\n",
    "    best_result = None\n",
    "    for threshold in range(10):\n",
    "        labels = (predictions > max_error*threshold*0.1).astype(np.int32)\n",
    "        result = Result(labels, targets)\n",
    "        if result.f1 > best_f1:\n",
    "            best_f1 = result.f1\n",
    "            best_result = result\n",
    "            best_threshold = threshold * 0.1\n",
    "    return best_result"
   ]
  },
  {
   "cell_type": "code",
   "execution_count": 6,
   "id": "6ddae71d",
   "metadata": {},
   "outputs": [],
   "source": [
    "results = {}\n",
    "for anomaly_class in range(10):\n",
    "    mnist = MNIST(anomaly_class=anomaly_class)\n",
    "    mnist = SupervisedDataset(mnist)\n",
    "    train_data = mnist.get_train_samples(n_samples=N_TRAIN_SAMPLES)\n",
    "    test_data, test_targets = mnist.get_test_samples(n_samples=N_TEST_SAMPLES)\n",
    "\n",
    "    model = AutoEncoder(window_size=1, latent_size=50, layers=(200,))\n",
    "    model.train(train_data, epochs=5)\n",
    "    predictions = model.predict(test_data)\n",
    "    \n",
    "    results[anomaly_class] = best_result(predictions, test_targets, model.max_error)\n",
    "    \n",
    "results['total'] = sum(list(results.values()), Result([],[]))"
   ]
  },
  {
   "cell_type": "code",
   "execution_count": 7,
   "id": "3a44d7cb",
   "metadata": {},
   "outputs": [],
   "source": [
    "index = list(range(10)) + ['total']\n",
    "columns = ['accuracy', 'f1_score', 'precision', 'recall']\n",
    "scores = []\n",
    "for i in index:\n",
    "    result = results[i]\n",
    "    scores.append([result.accuracy, result.f1, result.precision, result.recall])\n",
    "    \n",
    "pd.DataFrame(data=scores, index=index, columns=columns).to_csv((RESULTS_ROOT / RESULT_FILE))"
   ]
  },
  {
   "cell_type": "code",
   "execution_count": 8,
   "id": "b52407b1",
   "metadata": {},
   "outputs": [],
   "source": [
    "# given: model, train_size, test_size\n",
    "# for anomaly_class in range(10)\n",
    "# data = MNIST(anomaly_class)\n",
    "# model.train(data.train_data)\n",
    "# predictions = model.predict(data.test_data)\n",
    "# score[anomaly_class] = best_result(predictions, data.test_targets, model.max_error)\n",
    "# build dataframe index(0...9,'all'), colums=[f1, recall, precision, etc]\n",
    "# save results to csv \n",
    "# be able to run it for any model "
   ]
  }
 ],
 "metadata": {
  "kernelspec": {
   "display_name": "Python 3",
   "language": "python",
   "name": "python3"
  },
  "language_info": {
   "codemirror_mode": {
    "name": "ipython",
    "version": 3
   },
   "file_extension": ".py",
   "mimetype": "text/x-python",
   "name": "python",
   "nbconvert_exporter": "python",
   "pygments_lexer": "ipython3",
   "version": "3.6.13"
  }
 },
 "nbformat": 4,
 "nbformat_minor": 5
}
